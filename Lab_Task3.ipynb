{
 "cells": [
  {
   "cell_type": "markdown",
   "metadata": {
    "id": "yZUfT3i7CjcU"
   },
   "source": [
    "# Lab Task 01"
   ]
  },
  {
   "cell_type": "markdown",
   "metadata": {
    "id": "cFvXKV7FCd5E"
   },
   "source": [
    "Write a function to return True if the first and last number of a given list is same. If numbers are different then return False."
   ]
  },
  {
   "cell_type": "code",
   "execution_count": 10,
   "metadata": {
    "id": "GXktR4r5Coyi"
   },
   "outputs": [],
   "source": [
    "# Given:\n",
    "numbers_x = [10, 20, 30, 40, 10]\n",
    "numbers_y = [75, 65, 35, 75, 30]\n",
    "\n",
    "\n",
    "# Expected Output:\n",
    "# Given list: [10, 20, 30, 40, 10]\n",
    "# result is True\n",
    "\n",
    "# numbers_y = [75, 65, 35, 75, 30]\n",
    "# result is False"
   ]
  },
  {
   "cell_type": "code",
   "execution_count": 8,
   "metadata": {},
   "outputs": [
    {
     "name": "stdout",
     "output_type": "stream",
     "text": [
      "Given list: [10, 20, 30, 40, 10]\n",
      "Result is: True\n",
      "Given list: [75, 65, 35, 75, 30]\n",
      "Result is: False\n"
     ]
    }
   ],
   "source": [
    "def same_first_last(nums):\n",
    "    if nums[0] == nums[len(nums) - 1]:\n",
    "        return True\n",
    "    else:\n",
    "        return False\n",
    "\n",
    "print(\"Given list:\", numbers_x)\n",
    "print(\"Result is:\", same_first_last(numbers_x))\n",
    "\n",
    "print(\"Given list:\", numbers_y)\n",
    "print(\"Result is:\", same_first_last(numbers_y))\n"
   ]
  },
  {
   "cell_type": "markdown",
   "metadata": {
    "id": "UwFZ7OjICrlQ"
   },
   "source": [
    "\n",
    "\n",
    "\n",
    "\n",
    "# Lab Task 02"
   ]
  },
  {
   "cell_type": "markdown",
   "metadata": {
    "id": "GWQ2AhPcCufC"
   },
   "source": [
    "Create two NumPy arrays of the same shape and perform element-wise addition on them.\n",
    "\n",
    "Calculate the element-wise product of two NumPy arrays."
   ]
  },
  {
   "cell_type": "code",
   "execution_count": 15,
   "metadata": {
    "id": "jZNfvManCxjQ"
   },
   "outputs": [
    {
     "name": "stdout",
     "output_type": "stream",
     "text": [
      "Array1:\n",
      "[[10  3  6]\n",
      " [ 2  4  1]]\n",
      "Array2:\n",
      "[[ 3  1 19]\n",
      " [ 4  8  9]]\n"
     ]
    }
   ],
   "source": [
    "#code here\n",
    "import numpy as np \n",
    "# Creating two NumPy arrays 'x' and 'y' containing 2x3 matrices\n",
    "x = np.array([[10, 3, 6],\n",
    "                  [2, 4, 1]])\n",
    "\n",
    "y = np.array([[3, 1, 19],\n",
    "                  [4, 8, 9]])\n",
    "\n",
    "print(\"Array1:\") \n",
    "print(x)\n",
    "\n",
    "print(\"Array2:\") \n",
    "print(y)\n",
    "\n"
   ]
  },
  {
   "cell_type": "code",
   "execution_count": 16,
   "metadata": {},
   "outputs": [
    {
     "name": "stdout",
     "output_type": "stream",
     "text": [
      "\n",
      "Element-wise addition of arrays:\n",
      "[[13  4 25]\n",
      " [ 6 12 10]]\n",
      "\n",
      "Element-wise product of arrays:\n",
      "[[ 30   3 114]\n",
      " [  8  32   9]]\n"
     ]
    }
   ],
   "source": [
    "\n",
    "# addition of arrays 'x' and 'y' using np.add()\n",
    "print(\"\\nElement-wise addition of arrays:\")\n",
    "print(np.add(x, y))\n",
    "\n",
    "#product of arrays 'nums1' and 'nums2' using np.multiply()\n",
    "print(\"\\nElement-wise product of arrays:\")\n",
    "print(np.multiply(x, y))\n"
   ]
  },
  {
   "cell_type": "markdown",
   "metadata": {
    "id": "DR3RvooloecS"
   },
   "source": [
    "# Lab Task 03"
   ]
  },
  {
   "cell_type": "markdown",
   "metadata": {
    "id": "Oi-yFvItoWzc"
   },
   "source": [
    "Reshape a 1D NumPy array into a 2D array with dimensions (3, 4).\n",
    "\n",
    "Concatenate two NumPy arrays horizontally and vertically."
   ]
  },
  {
   "cell_type": "code",
   "execution_count": 26,
   "metadata": {
    "id": "c379PMYOobDK"
   },
   "outputs": [
    {
     "name": "stdout",
     "output_type": "stream",
     "text": [
      "Reshaped 2D array:\n",
      "[[10 15  8  2]\n",
      " [ 7  5 15 14]\n",
      " [ 5  1  0 13]]\n",
      "\n",
      "Concatenated horizontally:\n",
      "[[10 15  8  2 10 15  8  2]\n",
      " [ 7  5 15 14  7  5 15 14]\n",
      " [ 5  1  0 13  5  1  0 13]]\n",
      "\n",
      "Concatenated vertically:\n",
      "[[10 15  8  2]\n",
      " [ 7  5 15 14]\n",
      " [ 5  1  0 13]\n",
      " [10 15  8  2]\n",
      " [ 7  5 15 14]\n",
      " [ 5  1  0 13]]\n"
     ]
    }
   ],
   "source": [
    "import numpy as np\n",
    "\n",
    "# Creating a 1D NumPy array\n",
    "arr_1d = np.array([10, 15, 8, 2, 7, 5,15,14,5,1,0,13])\n",
    "\n",
    "# Reshape arr_1d into a 2D array with dimensions (3, 4)\n",
    "arr_2d = arr_1d.reshape(3, 4)\n",
    "print(\"Reshaped 2D array:\")\n",
    "print(arr_2d)\n",
    "\n",
    "\n",
    "# Concatenate  arrays horizontally using hstack()\n",
    "arr_horizontal = np.hstack((arr_2d, arr_2d))\n",
    "#horizontally concatenated array\n",
    "print(\"\\nConcatenated horizontally:\")\n",
    "print(arr_horizontal)\n",
    "\n",
    "\n",
    "# Concatenating arrays vertically using vstack()\n",
    "arr_vertical = np.vstack((arr_2d, arr_2d))\n",
    "\n",
    "#vertically concatenated array\n",
    "print(\"\\nConcatenated vertically:\")\n",
    "print(arr_vertical)\n",
    "\n",
    "\n",
    "\n",
    "\n",
    "\n"
   ]
  },
  {
   "cell_type": "markdown",
   "metadata": {
    "id": "QyAHL3cppQvA"
   },
   "source": [
    "# Lab Task 04\n",
    "\n"
   ]
  },
  {
   "cell_type": "markdown",
   "metadata": {
    "id": "n9ljQa5NopJD"
   },
   "source": [
    "\n",
    "## Online Store Shopping Cart\n",
    "Write a Python program to simulate the online store's shopping cart system. The program should use a while loop to provide an interactive shopping experience.\n",
    "\n",
    "\n",
    "### Tasks:\n",
    "* Initialize an empty list called shopping_cart to store items.\n",
    "* Display a welcome message and available products.\n",
    "* Loop should be iterating over AI Response Simulator and Investment decision and keep asking for user input.\n",
    "* Prompt the user to enter the number corresponding to the product they want to add to the cart.\n",
    "* Check if the user entered 'q'. If so, break the loop.\n",
    "* Convert the choice to an integer and validate it within the valid range (1 to 3).\n",
    "* Based on the user's choice, add the selected product to the shopping_cart list.\n",
    "* Display a confirmation message indicating the added product.\n",
    "* Continue the loop to allow the user to add more products or proceed to checkout.\n",
    "* After the loop ends, display the contents of the shopping cart.\n",
    "* Display a goodbye message.\n",
    "* End the program.\n"
   ]
  },
  {
   "cell_type": "code",
   "execution_count": null,
   "metadata": {
    "id": "9huwf9wVpWFf"
   },
   "outputs": [],
   "source": []
  },
  {
   "cell_type": "code",
   "execution_count": null,
   "metadata": {},
   "outputs": [],
   "source": []
  },
  {
   "cell_type": "code",
   "execution_count": 34,
   "metadata": {},
   "outputs": [
    {
     "name": "stdout",
     "output_type": "stream",
     "text": [
      "Welcome to the Online Store Shopping Cart!\n",
      "\n",
      "Available products:\n",
      "1. Mobile\n",
      "2. Gadgets\n",
      "3. Tablet\n",
      "4. Laptop\n",
      "5. Smartwatch\n",
      "\n",
      "Please select an option:\n",
      "1. Add product to cart\n",
      "2. View cart\n",
      "q. Quit\n",
      "Enter your choice (1, 2, q): 5\n",
      "Invalid choice. Please enter a number between 1 and 2.\n",
      "\n",
      "Please select an option:\n",
      "1. Add product to cart\n",
      "2. View cart\n",
      "q. Quit\n",
      "Enter your choice (1, 2, q): 1\n",
      "Enter the number corresponding to the product you want to add: 5\n",
      "'Smartwatch' has been added to your cart.\n",
      "\n",
      "Please select an option:\n",
      "1. Add product to cart\n",
      "2. View cart\n",
      "q. Quit\n",
      "Enter your choice (1, 2, q): 1\n",
      "Enter the number corresponding to the product you want to add: 3\n",
      "'Tablet' has been added to your cart.\n",
      "\n",
      "Please select an option:\n",
      "1. Add product to cart\n",
      "2. View cart\n",
      "q. Quit\n",
      "Enter your choice (1, 2, q): q\n",
      "Contents of your shopping cart:\n",
      "Smartwatch\n",
      "Tablet\n",
      "Thank you for your purchase!\n"
     ]
    }
   ],
   "source": [
    "print(\"Welcome to the Online Store Shopping Cart!\")\n",
    "\n",
    "# Initialize an empty list to store items in the shopping cart\n",
    "shopping_cart = []\n",
    "\n",
    "# Displaying available products\n",
    "electronic_products = [\"Mobile\", \"Gadgets\", \"Tablet\", \"Laptop\", \"Smartwatch\"]\n",
    "\n",
    "print(\"\\nAvailable products:\")\n",
    "for index, product in enumerate(electronic_products, 1):\n",
    "    print(f\"{index}. {product}\")\n",
    "\n",
    "# Main loop to iterate over the shopping process\n",
    "while True:\n",
    "    print(\"\\nPlease select an option:\")\n",
    "    print(\"1. Add product to cart\")\n",
    "    print(\"2. View cart\")\n",
    "    print(\"q. Quit\")\n",
    "\n",
    "    user_input = input(\"Enter your choice (1, 2, q): \")\n",
    "\n",
    "    if user_input.lower() == 'q':\n",
    "        print(\"Contents of your shopping cart:\")\n",
    "        for item in shopping_cart:\n",
    "            print(item)\n",
    "        print(\"Thank you for your purchase!\")\n",
    "        break\n",
    "\n",
    "    if user_input.isdigit():\n",
    "        choice = int(user_input)\n",
    "\n",
    "        if choice == 1:\n",
    "            product_number = int(input(\"Enter the number corresponding to the product you want to add: \"))\n",
    "            if 1 <= product_number <= len(electronic_products):\n",
    "                product_name = electronic_products[product_number - 1]\n",
    "                shopping_cart.append(product_name)\n",
    "                print(f\"'{product_name}' has been added to your cart.\")\n",
    "            else:\n",
    "                print(\"Invalid product number.\")\n",
    "\n",
    "        elif choice == 2:\n",
    "            if shopping_cart:\n",
    "                print(\"\\nItems in your shopping cart:\")\n",
    "                for item in shopping_cart:\n",
    "                    print(item)\n",
    "            else:\n",
    "                print(\"\\nYour shopping cart is empty.\")\n",
    "\n",
    "        else:\n",
    "            print(\"Invalid choice. Please enter a number between 1 and 2.\")\n",
    "    else:\n",
    "        print(\"Invalid input. Please enter a number or 'q' to quit.\")\n"
   ]
  },
  {
   "cell_type": "markdown",
   "metadata": {
    "id": "Dv9DtQ3jp6mq"
   },
   "source": [
    "# Lab Task 05"
   ]
  },
  {
   "cell_type": "markdown",
   "metadata": {
    "id": "2i6-zm_1ZAdn"
   },
   "source": [
    "\n",
    "## Email Classification\n",
    "Develope a tool which will classify an email.\n",
    "\n",
    "### Tasks:\n",
    "* Create a function classify_emails that takes a list of emails as an argument.\n",
    "* Inside the function, categorize emails into \"Important,\" \"Promotions,\" and \"Spam\" based on keywords and content analysis.\n",
    "* Loop through the emails and identify keywords to determine their category.\n",
    "* If an email contains keywords indicating importance, assign it as \"Important.\"\n",
    "* If an email contains keywords related to promotions or deals, assign it as \"Promotions.\"\n",
    "* If an email is suspected to be spam based on certain keywords or patterns, assign it as \"Spam.\"\n",
    "* Return three lists of emails for each category.\n",
    "* Print the lists."
   ]
  },
  {
   "cell_type": "code",
   "execution_count": 63,
   "metadata": {},
   "outputs": [],
   "source": [
    "#code here\n",
    "\n",
    "import random\n",
    "import nltk\n",
    "from nltk.tokenize import word_tokenize\n",
    "from nltk.corpus import stopwords\n"
   ]
  },
  {
   "cell_type": "code",
   "execution_count": 65,
   "metadata": {
    "id": "SnCGPkq-o84Z"
   },
   "outputs": [
    {
     "name": "stdout",
     "output_type": "stream",
     "text": [
      "Important Emails:\n",
      "['Important email about your Facebook account', 'Action required: Verify your email']\n",
      "\n",
      "Promotions Emails:\n",
      "['very Limited time offer - 50% off', 'Special discount for you']\n",
      "\n",
      "Spam Emails:\n",
      "['You won a lottery!', 'spam DO NOT LET GO BATA FLAT 50% OFF']\n"
     ]
    }
   ],
   "source": [
    "\n",
    "\n",
    "# Define the function to classify emails\n",
    "def classify_emails(emails):\n",
    "    important_keywords = ['urgent','important', 'action']\n",
    "    promotions_keywords = ['sale', 'discount', 'offer']\n",
    "    spam_keywords = ['lottery', 'spam', 'promotions','bumper','50%']\n",
    "\n",
    "    important_emails = []\n",
    "    promotions_emails = []\n",
    "    spam_emails = []\n",
    "\n",
    "    stop_words = set(stopwords.words('english'))\n",
    "\n",
    "    for email in emails:\n",
    "        email_lower = email.lower()\n",
    "        words = word_tokenize(email_lower)\n",
    "        filtered_words = [word for word in words if word not in stop_words]\n",
    "        \n",
    "        if any(keyword in filtered_words for keyword in important_keywords):\n",
    "            important_emails.append(email)\n",
    "        elif any(keyword in filtered_words for keyword in promotions_keywords):\n",
    "            promotions_emails.append(email)\n",
    "        elif any(keyword in filtered_words for keyword in spam_keywords):\n",
    "            spam_emails.append(email)\n",
    "\n",
    "    return important_emails, promotions_emails, spam_emails\n",
    "\n",
    "# Generate random emails\n",
    "emails = ['Important email about your Facebook account', 'very Limited time offer - 50% off', 'You won a lottery!','spam DO NOT LET GO BATA FLAT 50% OFF', 'Action required: Verify your email', 'Special discount for you',]\n",
    "\n",
    "# Classify the emails\n",
    "important_emails, promotions_emails, spam_emails = classify_emails(emails)\n",
    "\n",
    "# Print the classified emails\n",
    "print(\"Important Emails:\")\n",
    "print(important_emails)\n",
    "\n",
    "print(\"\\nPromotions Emails:\")\n",
    "print(promotions_emails)\n",
    "\n",
    "print(\"\\nSpam Emails:\")\n",
    "print(spam_emails)\n"
   ]
  },
  {
   "cell_type": "markdown",
   "metadata": {
    "id": "amtV-GLWpCC7"
   },
   "source": [
    "# Lab Task 06"
   ]
  },
  {
   "cell_type": "markdown",
   "metadata": {
    "id": "M2Zg-XsUpC72"
   },
   "source": [
    "## English-Spanish Dictionary\n",
    "You are creating a basic English-Spanish dictionary that allows users to look up English words and find their Spanish translations.\n",
    "\n",
    "\n",
    "### Tasks\n",
    "* Create a dictionary where English words are keys and their Spanish translations are values.\n",
    "* Ask the user to input an English word.\n",
    "* Check if the word exists in the dictionary.\n",
    "* If the word exists, print its Spanish translation.\n",
    "* If the word does not exist, inform the user that the translation is not available.\n",
    "* Implement a loop that allows the user to keep looking up words until they choose to exit.\n"
   ]
  },
  {
   "cell_type": "code",
   "execution_count": null,
   "metadata": {
    "id": "7RKtYbMZpJdh"
   },
   "outputs": [
    {
     "name": "stdout",
     "output_type": "stream",
     "text": [
      "Welcome to the English <--> Spanish Dictionary\n",
      "> fire\n",
      "Translation for 'fire' is not available.\n",
      "> alimneto\n",
      "Translation for 'alimneto' is not available.\n",
      "> tree\n",
      "The translation of 'tree' is 'árbol'.\n",
      "> sea\n",
      "The translation of 'sea' is 'mar'.\n",
      "> show\n",
      "Would you like to see the English or Spanish wordlist? spanish\n",
      "alimento,árbol,fútbol americano,mar,fría\n",
      "> show\n",
      "Would you like to see the English or Spanish wordlist? none\n",
      "Invalid input. Please enter 'english' or 'spanish'.\n",
      "> english\n",
      "Translation for 'english' is not available.\n",
      "> show\n",
      "Would you like to see the English or Spanish wordlist? english\n",
      "food,tree,football,sea,cold\n"
     ]
    }
   ],
   "source": [
    "#code\n",
    "\n",
    "english_words = [\"food\", \"tree\", \"football\", \"sea\", \"cold\"]\n",
    "spanish_words = [\"alimento\", \"árbol\", \"fútbol americano\", \"mar\", \"fría\"]\n",
    "\n",
    "# Main loop for dictionary lookup\n",
    "print(\"Welcome to the English <--> Spanish Dictionary\")\n",
    "while True:\n",
    "    word = input(\"> \")\n",
    "    if word.lower() == 'exit':\n",
    "        print(\"Exiting the dictionary. Goodbye!\")\n",
    "        break\n",
    "    elif word.lower() == 'show':\n",
    "        wordlist = input(\"Would you like to see the English or Spanish wordlist? \")\n",
    "        if wordlist.lower() == 'english':\n",
    "            print(','.join(english_words))\n",
    "        elif wordlist.lower() == 'spanish':\n",
    "            print(','.join(spanish_words))\n",
    "        else:\n",
    "            print(\"Invalid input. Please enter 'english' or 'spanish'.\")\n",
    "    else:\n",
    "        word_lower = word.lower()\n",
    "        if word_lower in english_words:\n",
    "            index = english_words.index(word_lower)\n",
    "            translation = spanish_words[index]\n",
    "            print(f\"The translation of '{word}' is '{translation}'.\")\n",
    "        elif word_lower in spanish_words:\n",
    "            index = spanish_words.index(word_lower)\n",
    "            translation = english_words[index]\n",
    "            print(f\"The translation of '{word}' is '{translation}'.\")\n",
    "        else:\n",
    "            print(f\"Translation for '{word}' is not available.\")\n"
   ]
  },
  {
   "cell_type": "markdown",
   "metadata": {
    "id": "h_8wOMWitspv"
   },
   "source": [
    "# Lab Task 07"
   ]
  },
  {
   "cell_type": "markdown",
   "metadata": {
    "id": "Qq4VH1Jkts32"
   },
   "source": [
    "dataset link : https://raw.githubusercontent.com/TirendazAcademy/PANDAS-TUTORIAL/main/DataSets/vgsalesGlobale.csv\n",
    "#Exercise\n",
    "Use the dataset of Game, we have explored earlier and perform following operations.\n",
    "\n",
    "* Calculate the total global sales for all games in the dataset.\n",
    "* Find the game with the highest global sales.\n",
    "* Determine the average sales for each region (NA_Sales, EU_Sales, JP_Sales, Other_Sales).\n",
    "* Find the top 5 most popular game genres based on global sales.\n",
    "* Calculate the total sales for each genre in each region and find the most popular genre in North America (NA_Sales).\n",
    "* Display last 10 rows.\n",
    "* Determine the top 3 gaming platforms with the highest global sales.\n",
    "* Calculate the market share (percentage of global sales) for each genre.\n",
    "* Calculate the correlation coefficient between NA_Sales and EU_Sales. (.corr function)"
   ]
  },
  {
   "cell_type": "code",
   "execution_count": 40,
   "metadata": {},
   "outputs": [
    {
     "data": {
      "text/html": [
       "<div>\n",
       "<style scoped>\n",
       "    .dataframe tbody tr th:only-of-type {\n",
       "        vertical-align: middle;\n",
       "    }\n",
       "\n",
       "    .dataframe tbody tr th {\n",
       "        vertical-align: top;\n",
       "    }\n",
       "\n",
       "    .dataframe thead th {\n",
       "        text-align: right;\n",
       "    }\n",
       "</style>\n",
       "<table border=\"1\" class=\"dataframe\">\n",
       "  <thead>\n",
       "    <tr style=\"text-align: right;\">\n",
       "      <th></th>\n",
       "      <th>Rank</th>\n",
       "      <th>Name</th>\n",
       "      <th>Platform</th>\n",
       "      <th>Year</th>\n",
       "      <th>Genre</th>\n",
       "      <th>Publisher</th>\n",
       "      <th>NA_Sales</th>\n",
       "      <th>EU_Sales</th>\n",
       "      <th>JP_Sales</th>\n",
       "      <th>Other_Sales</th>\n",
       "      <th>Global_Sales</th>\n",
       "    </tr>\n",
       "  </thead>\n",
       "  <tbody>\n",
       "    <tr>\n",
       "      <th>0</th>\n",
       "      <td>1</td>\n",
       "      <td>Wii Sports</td>\n",
       "      <td>Wii</td>\n",
       "      <td>2006.0</td>\n",
       "      <td>Sports</td>\n",
       "      <td>Nintendo</td>\n",
       "      <td>41.49</td>\n",
       "      <td>29.02</td>\n",
       "      <td>3.77</td>\n",
       "      <td>8.46</td>\n",
       "      <td>82.74</td>\n",
       "    </tr>\n",
       "    <tr>\n",
       "      <th>1</th>\n",
       "      <td>2</td>\n",
       "      <td>Super Mario Bros.</td>\n",
       "      <td>NES</td>\n",
       "      <td>1985.0</td>\n",
       "      <td>Platform</td>\n",
       "      <td>Nintendo</td>\n",
       "      <td>29.08</td>\n",
       "      <td>3.58</td>\n",
       "      <td>6.81</td>\n",
       "      <td>0.77</td>\n",
       "      <td>40.24</td>\n",
       "    </tr>\n",
       "    <tr>\n",
       "      <th>2</th>\n",
       "      <td>3</td>\n",
       "      <td>Mario Kart Wii</td>\n",
       "      <td>Wii</td>\n",
       "      <td>2008.0</td>\n",
       "      <td>Racing</td>\n",
       "      <td>Nintendo</td>\n",
       "      <td>15.85</td>\n",
       "      <td>12.88</td>\n",
       "      <td>3.79</td>\n",
       "      <td>3.31</td>\n",
       "      <td>35.82</td>\n",
       "    </tr>\n",
       "    <tr>\n",
       "      <th>3</th>\n",
       "      <td>4</td>\n",
       "      <td>Wii Sports Resort</td>\n",
       "      <td>Wii</td>\n",
       "      <td>2009.0</td>\n",
       "      <td>Sports</td>\n",
       "      <td>Nintendo</td>\n",
       "      <td>15.75</td>\n",
       "      <td>11.01</td>\n",
       "      <td>3.28</td>\n",
       "      <td>2.96</td>\n",
       "      <td>33.00</td>\n",
       "    </tr>\n",
       "    <tr>\n",
       "      <th>4</th>\n",
       "      <td>5</td>\n",
       "      <td>Pokemon Red/Pokemon Blue</td>\n",
       "      <td>GB</td>\n",
       "      <td>1996.0</td>\n",
       "      <td>Role-Playing</td>\n",
       "      <td>Nintendo</td>\n",
       "      <td>11.27</td>\n",
       "      <td>8.89</td>\n",
       "      <td>10.22</td>\n",
       "      <td>1.00</td>\n",
       "      <td>31.37</td>\n",
       "    </tr>\n",
       "    <tr>\n",
       "      <th>...</th>\n",
       "      <td>...</td>\n",
       "      <td>...</td>\n",
       "      <td>...</td>\n",
       "      <td>...</td>\n",
       "      <td>...</td>\n",
       "      <td>...</td>\n",
       "      <td>...</td>\n",
       "      <td>...</td>\n",
       "      <td>...</td>\n",
       "      <td>...</td>\n",
       "      <td>...</td>\n",
       "    </tr>\n",
       "    <tr>\n",
       "      <th>16593</th>\n",
       "      <td>16596</td>\n",
       "      <td>Woody Woodpecker in Crazy Castle 5</td>\n",
       "      <td>GBA</td>\n",
       "      <td>2002.0</td>\n",
       "      <td>Platform</td>\n",
       "      <td>Kemco</td>\n",
       "      <td>0.01</td>\n",
       "      <td>0.00</td>\n",
       "      <td>0.00</td>\n",
       "      <td>0.00</td>\n",
       "      <td>0.01</td>\n",
       "    </tr>\n",
       "    <tr>\n",
       "      <th>16594</th>\n",
       "      <td>16597</td>\n",
       "      <td>Men in Black II: Alien Escape</td>\n",
       "      <td>GC</td>\n",
       "      <td>2003.0</td>\n",
       "      <td>Shooter</td>\n",
       "      <td>Infogrames</td>\n",
       "      <td>0.01</td>\n",
       "      <td>0.00</td>\n",
       "      <td>0.00</td>\n",
       "      <td>0.00</td>\n",
       "      <td>0.01</td>\n",
       "    </tr>\n",
       "    <tr>\n",
       "      <th>16595</th>\n",
       "      <td>16598</td>\n",
       "      <td>SCORE International Baja 1000: The Official Game</td>\n",
       "      <td>PS2</td>\n",
       "      <td>2008.0</td>\n",
       "      <td>Racing</td>\n",
       "      <td>Activision</td>\n",
       "      <td>0.00</td>\n",
       "      <td>0.00</td>\n",
       "      <td>0.00</td>\n",
       "      <td>0.00</td>\n",
       "      <td>0.01</td>\n",
       "    </tr>\n",
       "    <tr>\n",
       "      <th>16596</th>\n",
       "      <td>16599</td>\n",
       "      <td>Know How 2</td>\n",
       "      <td>DS</td>\n",
       "      <td>2010.0</td>\n",
       "      <td>Puzzle</td>\n",
       "      <td>7G//AMES</td>\n",
       "      <td>0.00</td>\n",
       "      <td>0.01</td>\n",
       "      <td>0.00</td>\n",
       "      <td>0.00</td>\n",
       "      <td>0.01</td>\n",
       "    </tr>\n",
       "    <tr>\n",
       "      <th>16597</th>\n",
       "      <td>16600</td>\n",
       "      <td>Spirits &amp; Spells</td>\n",
       "      <td>GBA</td>\n",
       "      <td>2003.0</td>\n",
       "      <td>Platform</td>\n",
       "      <td>Wanadoo</td>\n",
       "      <td>0.01</td>\n",
       "      <td>0.00</td>\n",
       "      <td>0.00</td>\n",
       "      <td>0.00</td>\n",
       "      <td>0.01</td>\n",
       "    </tr>\n",
       "  </tbody>\n",
       "</table>\n",
       "<p>16598 rows × 11 columns</p>\n",
       "</div>"
      ],
      "text/plain": [
       "        Rank                                              Name Platform  \\\n",
       "0          1                                        Wii Sports      Wii   \n",
       "1          2                                 Super Mario Bros.      NES   \n",
       "2          3                                    Mario Kart Wii      Wii   \n",
       "3          4                                 Wii Sports Resort      Wii   \n",
       "4          5                          Pokemon Red/Pokemon Blue       GB   \n",
       "...      ...                                               ...      ...   \n",
       "16593  16596                Woody Woodpecker in Crazy Castle 5      GBA   \n",
       "16594  16597                     Men in Black II: Alien Escape       GC   \n",
       "16595  16598  SCORE International Baja 1000: The Official Game      PS2   \n",
       "16596  16599                                        Know How 2       DS   \n",
       "16597  16600                                  Spirits & Spells      GBA   \n",
       "\n",
       "         Year         Genre   Publisher  NA_Sales  EU_Sales  JP_Sales  \\\n",
       "0      2006.0        Sports    Nintendo     41.49     29.02      3.77   \n",
       "1      1985.0      Platform    Nintendo     29.08      3.58      6.81   \n",
       "2      2008.0        Racing    Nintendo     15.85     12.88      3.79   \n",
       "3      2009.0        Sports    Nintendo     15.75     11.01      3.28   \n",
       "4      1996.0  Role-Playing    Nintendo     11.27      8.89     10.22   \n",
       "...       ...           ...         ...       ...       ...       ...   \n",
       "16593  2002.0      Platform       Kemco      0.01      0.00      0.00   \n",
       "16594  2003.0       Shooter  Infogrames      0.01      0.00      0.00   \n",
       "16595  2008.0        Racing  Activision      0.00      0.00      0.00   \n",
       "16596  2010.0        Puzzle    7G//AMES      0.00      0.01      0.00   \n",
       "16597  2003.0      Platform     Wanadoo      0.01      0.00      0.00   \n",
       "\n",
       "       Other_Sales  Global_Sales  \n",
       "0             8.46         82.74  \n",
       "1             0.77         40.24  \n",
       "2             3.31         35.82  \n",
       "3             2.96         33.00  \n",
       "4             1.00         31.37  \n",
       "...            ...           ...  \n",
       "16593         0.00          0.01  \n",
       "16594         0.00          0.01  \n",
       "16595         0.00          0.01  \n",
       "16596         0.00          0.01  \n",
       "16597         0.00          0.01  \n",
       "\n",
       "[16598 rows x 11 columns]"
      ]
     },
     "execution_count": 40,
     "metadata": {},
     "output_type": "execute_result"
    }
   ],
   "source": [
    "import pandas as pd\n",
    "\n",
    "# Read the dataset\n",
    "df = pd.read_csv('https://raw.githubusercontent.com/TirendazAcademy/PANDAS-TUTORIAL/main/DataSets/vgsalesGlobale.csv')\n",
    "df"
   ]
  },
  {
   "cell_type": "code",
   "execution_count": 41,
   "metadata": {},
   "outputs": [
    {
     "name": "stdout",
     "output_type": "stream",
     "text": [
      "<class 'pandas.core.frame.DataFrame'>\n",
      "RangeIndex: 16598 entries, 0 to 16597\n",
      "Data columns (total 11 columns):\n",
      " #   Column        Non-Null Count  Dtype  \n",
      "---  ------        --------------  -----  \n",
      " 0   Rank          16598 non-null  int64  \n",
      " 1   Name          16598 non-null  object \n",
      " 2   Platform      16598 non-null  object \n",
      " 3   Year          16327 non-null  float64\n",
      " 4   Genre         16598 non-null  object \n",
      " 5   Publisher     16540 non-null  object \n",
      " 6   NA_Sales      16598 non-null  float64\n",
      " 7   EU_Sales      16598 non-null  float64\n",
      " 8   JP_Sales      16598 non-null  float64\n",
      " 9   Other_Sales   16598 non-null  float64\n",
      " 10  Global_Sales  16598 non-null  float64\n",
      "dtypes: float64(6), int64(1), object(4)\n",
      "memory usage: 1.4+ MB\n"
     ]
    }
   ],
   "source": [
    "df.info()"
   ]
  },
  {
   "cell_type": "code",
   "execution_count": 54,
   "metadata": {},
   "outputs": [
    {
     "name": "stdout",
     "output_type": "stream",
     "text": [
      "total global sales for all games is:\n"
     ]
    },
    {
     "data": {
      "text/plain": [
       "8920.44"
      ]
     },
     "execution_count": 54,
     "metadata": {},
     "output_type": "execute_result"
    }
   ],
   "source": [
    "# Calculating the total global sales for all games in the dataset\n",
    "total_global_sales = df['Global_Sales'].sum()\n",
    "print(\"total global sales for all games is:\" )\n",
    "total_global_sales"
   ]
  },
  {
   "cell_type": "code",
   "execution_count": 53,
   "metadata": {},
   "outputs": [
    {
     "name": "stdout",
     "output_type": "stream",
     "text": [
      "Game with the highest global sales:\n"
     ]
    },
    {
     "data": {
      "text/plain": [
       "Rank                     1\n",
       "Name            Wii Sports\n",
       "Platform               Wii\n",
       "Year                2006.0\n",
       "Genre               Sports\n",
       "Publisher         Nintendo\n",
       "NA_Sales             41.49\n",
       "EU_Sales             29.02\n",
       "JP_Sales              3.77\n",
       "Other_Sales           8.46\n",
       "Global_Sales         82.74\n",
       "Name: 0, dtype: object"
      ]
     },
     "execution_count": 53,
     "metadata": {},
     "output_type": "execute_result"
    }
   ],
   "source": [
    "#the game with the highest global sales\n",
    "highest_sales_game = df.loc[df['Global_Sales'].idxmax()]\n",
    "print(\"Game with the highest global sales:\")\n",
    "highest_sales_game\n"
   ]
  },
  {
   "cell_type": "code",
   "execution_count": 52,
   "metadata": {},
   "outputs": [
    {
     "name": "stdout",
     "output_type": "stream",
     "text": [
      "Average sales for each region:\n"
     ]
    },
    {
     "data": {
      "text/plain": [
       "NA_Sales       0.264667\n",
       "EU_Sales       0.146652\n",
       "JP_Sales       0.077782\n",
       "Other_Sales    0.048063\n",
       "dtype: float64"
      ]
     },
     "execution_count": 52,
     "metadata": {},
     "output_type": "execute_result"
    }
   ],
   "source": [
    "\n",
    "#average sales for each region (NA_Sales, EU_Sales, JP_Sales, Other_Sales)\n",
    "avg_sales_per_region = df[['NA_Sales', 'EU_Sales', 'JP_Sales', 'Other_Sales']].mean()\n",
    "print(\"Average sales for each region:\")\n",
    "avg_sales_per_region"
   ]
  },
  {
   "cell_type": "code",
   "execution_count": 51,
   "metadata": {},
   "outputs": [
    {
     "name": "stdout",
     "output_type": "stream",
     "text": [
      "Top 5 most popular game genres based on global sales:\n"
     ]
    },
    {
     "data": {
      "text/plain": [
       "Genre\n",
       "Action          1751.18\n",
       "Sports          1330.93\n",
       "Shooter         1037.37\n",
       "Role-Playing     927.37\n",
       "Platform         831.37\n",
       "Name: Global_Sales, dtype: float64"
      ]
     },
     "execution_count": 51,
     "metadata": {},
     "output_type": "execute_result"
    }
   ],
   "source": [
    "# top 5 most popular game genres based on global sales\n",
    "top_5_genres = df.groupby('Genre')['Global_Sales'].sum().nlargest(5)\n",
    "print(\"Top 5 most popular game genres based on global sales:\")\n",
    "top_5_genres"
   ]
  },
  {
   "cell_type": "code",
   "execution_count": 50,
   "metadata": {},
   "outputs": [
    {
     "name": "stdout",
     "output_type": "stream",
     "text": [
      "Most popular genre in North America (NA_Sales):\n"
     ]
    },
    {
     "data": {
      "text/plain": [
       "'Action'"
      ]
     },
     "execution_count": 50,
     "metadata": {},
     "output_type": "execute_result"
    }
   ],
   "source": [
    "# Calculating the total sales for each genre in each region and find the most popular genre in North America (NA_Sales)\n",
    "total_sales_per_genre_in_each_region = df.groupby('Genre')[['NA_Sales', 'EU_Sales', 'JP_Sales', 'Other_Sales']].sum()\n",
    "most_popular_genre_in_na = total_sales_per_genre_in_each_region['NA_Sales'].idxmax()\n",
    "print(\"Most popular genre in North America (NA_Sales):\" )\n",
    "most_popular_genre_in_na"
   ]
  },
  {
   "cell_type": "code",
   "execution_count": 48,
   "metadata": {},
   "outputs": [
    {
     "name": "stdout",
     "output_type": "stream",
     "text": [
      "Last 10 rows:\n"
     ]
    },
    {
     "data": {
      "text/html": [
       "<div>\n",
       "<style scoped>\n",
       "    .dataframe tbody tr th:only-of-type {\n",
       "        vertical-align: middle;\n",
       "    }\n",
       "\n",
       "    .dataframe tbody tr th {\n",
       "        vertical-align: top;\n",
       "    }\n",
       "\n",
       "    .dataframe thead th {\n",
       "        text-align: right;\n",
       "    }\n",
       "</style>\n",
       "<table border=\"1\" class=\"dataframe\">\n",
       "  <thead>\n",
       "    <tr style=\"text-align: right;\">\n",
       "      <th></th>\n",
       "      <th>Rank</th>\n",
       "      <th>Name</th>\n",
       "      <th>Platform</th>\n",
       "      <th>Year</th>\n",
       "      <th>Genre</th>\n",
       "      <th>Publisher</th>\n",
       "      <th>NA_Sales</th>\n",
       "      <th>EU_Sales</th>\n",
       "      <th>JP_Sales</th>\n",
       "      <th>Other_Sales</th>\n",
       "      <th>Global_Sales</th>\n",
       "    </tr>\n",
       "  </thead>\n",
       "  <tbody>\n",
       "    <tr>\n",
       "      <th>16588</th>\n",
       "      <td>16591</td>\n",
       "      <td>Mega Brain Boost</td>\n",
       "      <td>DS</td>\n",
       "      <td>2008.0</td>\n",
       "      <td>Puzzle</td>\n",
       "      <td>Majesco Entertainment</td>\n",
       "      <td>0.01</td>\n",
       "      <td>0.00</td>\n",
       "      <td>0.00</td>\n",
       "      <td>0.0</td>\n",
       "      <td>0.01</td>\n",
       "    </tr>\n",
       "    <tr>\n",
       "      <th>16589</th>\n",
       "      <td>16592</td>\n",
       "      <td>Chou Ezaru wa Akai Hana: Koi wa Tsuki ni Shiru...</td>\n",
       "      <td>PSV</td>\n",
       "      <td>2016.0</td>\n",
       "      <td>Action</td>\n",
       "      <td>dramatic create</td>\n",
       "      <td>0.00</td>\n",
       "      <td>0.00</td>\n",
       "      <td>0.01</td>\n",
       "      <td>0.0</td>\n",
       "      <td>0.01</td>\n",
       "    </tr>\n",
       "    <tr>\n",
       "      <th>16590</th>\n",
       "      <td>16593</td>\n",
       "      <td>Eiyuu Densetsu: Sora no Kiseki Material Collec...</td>\n",
       "      <td>PSP</td>\n",
       "      <td>2007.0</td>\n",
       "      <td>Role-Playing</td>\n",
       "      <td>Falcom Corporation</td>\n",
       "      <td>0.00</td>\n",
       "      <td>0.00</td>\n",
       "      <td>0.01</td>\n",
       "      <td>0.0</td>\n",
       "      <td>0.01</td>\n",
       "    </tr>\n",
       "    <tr>\n",
       "      <th>16591</th>\n",
       "      <td>16594</td>\n",
       "      <td>Myst IV: Revelation</td>\n",
       "      <td>PC</td>\n",
       "      <td>2004.0</td>\n",
       "      <td>Adventure</td>\n",
       "      <td>Ubisoft</td>\n",
       "      <td>0.01</td>\n",
       "      <td>0.00</td>\n",
       "      <td>0.00</td>\n",
       "      <td>0.0</td>\n",
       "      <td>0.01</td>\n",
       "    </tr>\n",
       "    <tr>\n",
       "      <th>16592</th>\n",
       "      <td>16595</td>\n",
       "      <td>Plushees</td>\n",
       "      <td>DS</td>\n",
       "      <td>2008.0</td>\n",
       "      <td>Simulation</td>\n",
       "      <td>Destineer</td>\n",
       "      <td>0.01</td>\n",
       "      <td>0.00</td>\n",
       "      <td>0.00</td>\n",
       "      <td>0.0</td>\n",
       "      <td>0.01</td>\n",
       "    </tr>\n",
       "    <tr>\n",
       "      <th>16593</th>\n",
       "      <td>16596</td>\n",
       "      <td>Woody Woodpecker in Crazy Castle 5</td>\n",
       "      <td>GBA</td>\n",
       "      <td>2002.0</td>\n",
       "      <td>Platform</td>\n",
       "      <td>Kemco</td>\n",
       "      <td>0.01</td>\n",
       "      <td>0.00</td>\n",
       "      <td>0.00</td>\n",
       "      <td>0.0</td>\n",
       "      <td>0.01</td>\n",
       "    </tr>\n",
       "    <tr>\n",
       "      <th>16594</th>\n",
       "      <td>16597</td>\n",
       "      <td>Men in Black II: Alien Escape</td>\n",
       "      <td>GC</td>\n",
       "      <td>2003.0</td>\n",
       "      <td>Shooter</td>\n",
       "      <td>Infogrames</td>\n",
       "      <td>0.01</td>\n",
       "      <td>0.00</td>\n",
       "      <td>0.00</td>\n",
       "      <td>0.0</td>\n",
       "      <td>0.01</td>\n",
       "    </tr>\n",
       "    <tr>\n",
       "      <th>16595</th>\n",
       "      <td>16598</td>\n",
       "      <td>SCORE International Baja 1000: The Official Game</td>\n",
       "      <td>PS2</td>\n",
       "      <td>2008.0</td>\n",
       "      <td>Racing</td>\n",
       "      <td>Activision</td>\n",
       "      <td>0.00</td>\n",
       "      <td>0.00</td>\n",
       "      <td>0.00</td>\n",
       "      <td>0.0</td>\n",
       "      <td>0.01</td>\n",
       "    </tr>\n",
       "    <tr>\n",
       "      <th>16596</th>\n",
       "      <td>16599</td>\n",
       "      <td>Know How 2</td>\n",
       "      <td>DS</td>\n",
       "      <td>2010.0</td>\n",
       "      <td>Puzzle</td>\n",
       "      <td>7G//AMES</td>\n",
       "      <td>0.00</td>\n",
       "      <td>0.01</td>\n",
       "      <td>0.00</td>\n",
       "      <td>0.0</td>\n",
       "      <td>0.01</td>\n",
       "    </tr>\n",
       "    <tr>\n",
       "      <th>16597</th>\n",
       "      <td>16600</td>\n",
       "      <td>Spirits &amp; Spells</td>\n",
       "      <td>GBA</td>\n",
       "      <td>2003.0</td>\n",
       "      <td>Platform</td>\n",
       "      <td>Wanadoo</td>\n",
       "      <td>0.01</td>\n",
       "      <td>0.00</td>\n",
       "      <td>0.00</td>\n",
       "      <td>0.0</td>\n",
       "      <td>0.01</td>\n",
       "    </tr>\n",
       "  </tbody>\n",
       "</table>\n",
       "</div>"
      ],
      "text/plain": [
       "        Rank                                               Name Platform  \\\n",
       "16588  16591                                   Mega Brain Boost       DS   \n",
       "16589  16592  Chou Ezaru wa Akai Hana: Koi wa Tsuki ni Shiru...      PSV   \n",
       "16590  16593  Eiyuu Densetsu: Sora no Kiseki Material Collec...      PSP   \n",
       "16591  16594                                Myst IV: Revelation       PC   \n",
       "16592  16595                                           Plushees       DS   \n",
       "16593  16596                 Woody Woodpecker in Crazy Castle 5      GBA   \n",
       "16594  16597                      Men in Black II: Alien Escape       GC   \n",
       "16595  16598   SCORE International Baja 1000: The Official Game      PS2   \n",
       "16596  16599                                         Know How 2       DS   \n",
       "16597  16600                                   Spirits & Spells      GBA   \n",
       "\n",
       "         Year         Genre              Publisher  NA_Sales  EU_Sales  \\\n",
       "16588  2008.0        Puzzle  Majesco Entertainment      0.01      0.00   \n",
       "16589  2016.0        Action        dramatic create      0.00      0.00   \n",
       "16590  2007.0  Role-Playing     Falcom Corporation      0.00      0.00   \n",
       "16591  2004.0     Adventure                Ubisoft      0.01      0.00   \n",
       "16592  2008.0    Simulation              Destineer      0.01      0.00   \n",
       "16593  2002.0      Platform                  Kemco      0.01      0.00   \n",
       "16594  2003.0       Shooter             Infogrames      0.01      0.00   \n",
       "16595  2008.0        Racing             Activision      0.00      0.00   \n",
       "16596  2010.0        Puzzle               7G//AMES      0.00      0.01   \n",
       "16597  2003.0      Platform                Wanadoo      0.01      0.00   \n",
       "\n",
       "       JP_Sales  Other_Sales  Global_Sales  \n",
       "16588      0.00          0.0          0.01  \n",
       "16589      0.01          0.0          0.01  \n",
       "16590      0.01          0.0          0.01  \n",
       "16591      0.00          0.0          0.01  \n",
       "16592      0.00          0.0          0.01  \n",
       "16593      0.00          0.0          0.01  \n",
       "16594      0.00          0.0          0.01  \n",
       "16595      0.00          0.0          0.01  \n",
       "16596      0.00          0.0          0.01  \n",
       "16597      0.00          0.0          0.01  "
      ]
     },
     "execution_count": 48,
     "metadata": {},
     "output_type": "execute_result"
    }
   ],
   "source": [
    "\n",
    "# Display last 10 rows\n",
    "print(\"Last 10 rows:\")\n",
    "df.tail(10)"
   ]
  },
  {
   "cell_type": "code",
   "execution_count": 55,
   "metadata": {},
   "outputs": [
    {
     "name": "stdout",
     "output_type": "stream",
     "text": [
      "Top 3 gaming platforms with the highest global sales:\n"
     ]
    },
    {
     "data": {
      "text/plain": [
       "Platform\n",
       "PS2     1255.64\n",
       "X360     979.96\n",
       "PS3      957.84\n",
       "Name: Global_Sales, dtype: float64"
      ]
     },
     "execution_count": 55,
     "metadata": {},
     "output_type": "execute_result"
    }
   ],
   "source": [
    "\n",
    "# the top 3 gaming platforms with the highest global sales\n",
    "top_3_platforms = df.groupby('Platform')['Global_Sales'].sum().nlargest(3)\n",
    "print(\"Top 3 gaming platforms with the highest global sales:\")\n",
    "top_3_platforms"
   ]
  },
  {
   "cell_type": "code",
   "execution_count": 58,
   "metadata": {},
   "outputs": [
    {
     "name": "stdout",
     "output_type": "stream",
     "text": [
      "Market share (percentage of global sales) for each genre:\n"
     ]
    },
    {
     "data": {
      "text/plain": [
       "Genre\n",
       "Action          19.631094\n",
       "Adventure        2.679688\n",
       "Fighting         5.032375\n",
       "Misc             9.079821\n",
       "Platform         9.319832\n",
       "Puzzle           2.745941\n",
       "Racing           8.206322\n",
       "Role-Playing    10.396012\n",
       "Shooter         11.629135\n",
       "Simulation       4.396644\n",
       "Sports          14.920004\n",
       "Strategy         1.963132\n",
       "Name: Global_Sales, dtype: float64"
      ]
     },
     "execution_count": 58,
     "metadata": {},
     "output_type": "execute_result"
    }
   ],
   "source": [
    "# Calculate the market share (percentage of global sales) for each genre\n",
    "market_share_per_genre = (df.groupby('Genre')['Global_Sales'].sum() / total_global_sales) * 100\n",
    "print(\"Market share (percentage of global sales) for each genre:\")\n",
    "market_share_per_genre\n"
   ]
  },
  {
   "cell_type": "code",
   "execution_count": 59,
   "metadata": {},
   "outputs": [
    {
     "name": "stdout",
     "output_type": "stream",
     "text": [
      "Correlation coefficient between NA_Sales and EU_Sales:\n"
     ]
    },
    {
     "data": {
      "text/plain": [
       "0.7677267483702636"
      ]
     },
     "execution_count": 59,
     "metadata": {},
     "output_type": "execute_result"
    }
   ],
   "source": [
    "\n",
    "#the correlation coefficient between NA_Sales and EU_Sales\n",
    "correlation_coefficient = df['NA_Sales'].corr(df['EU_Sales'])\n",
    "print(\"Correlation coefficient between NA_Sales and EU_Sales:\")\n",
    "correlation_coefficient\n"
   ]
  },
  {
   "cell_type": "code",
   "execution_count": null,
   "metadata": {},
   "outputs": [],
   "source": []
  }
 ],
 "metadata": {
  "colab": {
   "provenance": []
  },
  "kernelspec": {
   "display_name": "Python 3 (ipykernel)",
   "language": "python",
   "name": "python3"
  },
  "language_info": {
   "codemirror_mode": {
    "name": "ipython",
    "version": 3
   },
   "file_extension": ".py",
   "mimetype": "text/x-python",
   "name": "python",
   "nbconvert_exporter": "python",
   "pygments_lexer": "ipython3",
   "version": "3.11.5"
  }
 },
 "nbformat": 4,
 "nbformat_minor": 1
}
